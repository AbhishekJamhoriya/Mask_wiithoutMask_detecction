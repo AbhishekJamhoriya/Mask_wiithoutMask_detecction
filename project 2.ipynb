{
 "metadata": {
  "language_info": {
   "codemirror_mode": {
    "name": "ipython",
    "version": 3
   },
   "file_extension": ".py",
   "mimetype": "text/x-python",
   "name": "python",
   "nbconvert_exporter": "python",
   "pygments_lexer": "ipython3",
   "version": "3.9.0"
  },
  "orig_nbformat": 2,
  "kernelspec": {
   "name": "python390jvsc74a57bd09e850d2407a5984c61f3cbd6913a6e23f9d9ba4e424edefe1dc2fdcdc5dfe04f",
   "display_name": "Python 3.9.0 64-bit"
  }
 },
 "nbformat": 4,
 "nbformat_minor": 2,
 "cells": [
  {
   "cell_type": "code",
   "execution_count": 2,
   "metadata": {},
   "outputs": [],
   "source": [
    "from tensorflow.keras.applications.mobilenet_v2 import preprocess_input\n",
    "from tensorflow.keras.preprocessing.image import img_to_array\n",
    "from tensorflow.keras.preprocessing.image import load_img\n",
    "from sklearn.preprocessing import LabelEncoder\n",
    "from sklearn.model_selection import train_test_split\n",
    "from sklearn.metrics import classification_report\n",
    "from imutils import paths\n",
    "import matplotlib.pyplot as plt\n",
    "import numpy as np\n",
    "import pandas as pd\n",
    "import os"
   ]
  },
  {
   "cell_type": "code",
   "execution_count": 3,
   "metadata": {},
   "outputs": [],
   "source": [
    "from sklearn.neural_network import MLPClassifier\n",
    "from sklearn.svm import SVC\n",
    "from sklearn.ensemble import RandomForestClassifier\n",
    "from sklearn.naive_bayes import GaussianNB\n",
    "from sklearn.discriminant_analysis import LinearDiscriminantAnalysis\n",
    "from sklearn.model_selection import cross_val_score"
   ]
  },
  {
   "source": [
    "Preprocessing\n",
    "\n",
    "Here made two lists and then using for loops appeded images which are now change into arrays of numbers and their labels.\n",
    "\n",
    "Function relpath was used for taking the relative paths of both folder directly from the main folder."
   ],
   "cell_type": "markdown",
   "metadata": {}
  },
  {
   "cell_type": "code",
   "execution_count": 5,
   "metadata": {},
   "outputs": [],
   "source": [
    "lst = [\"with_mask\",\"without_mask\"]"
   ]
  },
  {
   "cell_type": "code",
   "execution_count": 6,
   "metadata": {},
   "outputs": [],
   "source": [
    "data = []\n",
    "labels = []"
   ]
  },
  {
   "cell_type": "code",
   "execution_count": 7,
   "metadata": {},
   "outputs": [
    {
     "output_type": "stream",
     "name": "stderr",
     "text": [
      "C:\\Users\\Ajay\\AppData\\Local\\Programs\\Python\\Python39\\lib\\site-packages\\PIL\\Image.py:962: UserWarning: Palette images with Transparency expressed in bytes should be converted to RGBA images\n  warnings.warn(\n"
     ]
    }
   ],
   "source": [
    "for clas in lst:\n",
    "    path = os.path.relpath(clas)\n",
    "\n",
    "    for img in os.listdir(path):\n",
    "    \timgage_path = os.path.join(path, img)\n",
    "\n",
    "    \timage = load_img(imgage_path, target_size=(224, 224))\n",
    "    \timage = img_to_array(image)\n",
    "    \timage = preprocess_input(image)\n",
    "    \tdata.append(image)\n",
    "    \tlabels.append(clas)\n",
    "\t\t\n"
   ]
  },
  {
   "source": [
    "Encoding using label encoder."
   ],
   "cell_type": "markdown",
   "metadata": {}
  },
  {
   "cell_type": "code",
   "execution_count": 9,
   "metadata": {},
   "outputs": [
    {
     "output_type": "stream",
     "name": "stdout",
     "text": [
      "[0 0 0 ... 1 1 1]\n"
     ]
    }
   ],
   "source": [
    "lb = LabelEncoder()\n",
    "labels = lb.fit_transform(labels)\n",
    "print(labels)"
   ]
  },
  {
   "source": [
    "Changing these into numpy arrays as machine learning models only take them as inputs."
   ],
   "cell_type": "markdown",
   "metadata": {}
  },
  {
   "cell_type": "code",
   "execution_count": 12,
   "metadata": {},
   "outputs": [],
   "source": [
    "# excution time = around 10 - 20 seconds\n",
    "\n",
    "data = np.array(data, dtype=\"float32\")\n",
    "lables = np.array(labels)"
   ]
  },
  {
   "source": [
    "Reshaping/ flattening the array of shape (3833,224,224,3) into an array of shape (3833,15058)"
   ],
   "cell_type": "markdown",
   "metadata": {}
  },
  {
   "cell_type": "code",
   "execution_count": 13,
   "metadata": {},
   "outputs": [
    {
     "output_type": "stream",
     "name": "stdout",
     "text": [
      "[[-0.45098037 -0.49019605 -0.44313723 ... -0.34117645 -0.54509807\n  -0.64705884]\n [ 0.32549024  0.30196083  0.24705887 ...  0.11372554  0.07450986\n   0.12156868]\n [-0.41176468 -0.40392154 -0.38823527 ... -0.7490196  -0.7490196\n  -0.6862745 ]\n ...\n [-1.         -1.         -1.         ... -1.         -1.\n  -1.        ]\n [ 0.67058825  0.6784314   0.70980394 ...  0.8666667   0.8352941\n   0.96862745]\n [ 0.90588236  0.8980392   0.88235295 ...  0.58431375  0.81960785\n   0.8039216 ]]\n"
     ]
    }
   ],
   "source": [
    "arr1 = data.reshape(3833,150528)\n",
    "print(arr1)"
   ]
  },
  {
   "source": [
    "Making a dataframe for doing further process easily."
   ],
   "cell_type": "markdown",
   "metadata": {}
  },
  {
   "cell_type": "code",
   "execution_count": 16,
   "metadata": {},
   "outputs": [],
   "source": [
    "dataframe = pd.DataFrame(arr1)"
   ]
  },
  {
   "cell_type": "code",
   "execution_count": 17,
   "metadata": {},
   "outputs": [
    {
     "output_type": "execute_result",
     "data": {
      "text/plain": [
       "     0         1         2         3         4         5         6       \\\n",
       "0 -0.450980 -0.490196 -0.443137 -0.450980 -0.490196 -0.443137 -0.450980   \n",
       "1  0.325490  0.301961  0.247059  0.325490  0.301961  0.247059  0.349020   \n",
       "2 -0.411765 -0.403922 -0.388235 -0.411765 -0.403922 -0.388235 -0.521569   \n",
       "3 -0.929412 -0.945098 -0.921569 -0.929412 -0.945098 -0.921569 -0.921569   \n",
       "4 -0.654902 -0.615686 -0.584314 -0.654902 -0.615686 -0.584314 -0.662745   \n",
       "\n",
       "     7         8         9       ...    150518    150519    150520    150521  \\\n",
       "0 -0.490196 -0.443137 -0.396078  ... -0.654902 -0.341176 -0.545098 -0.647059   \n",
       "1  0.325490  0.270588  0.349020  ...  0.105882  0.098039  0.058824  0.105882   \n",
       "2 -0.513726 -0.498039 -0.521569  ... -0.662745 -0.725490 -0.725490 -0.662745   \n",
       "3 -0.937255 -0.913725 -0.945098  ... -0.913725 -0.976471 -0.976471 -0.913725   \n",
       "4 -0.623529 -0.592157 -0.662745  ...  0.952941  0.913725  0.945098  0.937255   \n",
       "\n",
       "     150522    150523    150524    150525    150526    150527  \n",
       "0 -0.341176 -0.545098 -0.647059 -0.341176 -0.545098 -0.647059  \n",
       "1  0.113726  0.074510  0.121569  0.113726  0.074510  0.121569  \n",
       "2 -0.749020 -0.749020 -0.686275 -0.749020 -0.749020 -0.686275  \n",
       "3 -0.976471 -0.976471 -0.898039 -0.976471 -0.976471 -0.898039  \n",
       "4  0.913725  0.945098  0.937255  0.913725  0.945098  0.937255  \n",
       "\n",
       "[5 rows x 150528 columns]"
      ],
      "text/html": "<div>\n<style scoped>\n    .dataframe tbody tr th:only-of-type {\n        vertical-align: middle;\n    }\n\n    .dataframe tbody tr th {\n        vertical-align: top;\n    }\n\n    .dataframe thead th {\n        text-align: right;\n    }\n</style>\n<table border=\"1\" class=\"dataframe\">\n  <thead>\n    <tr style=\"text-align: right;\">\n      <th></th>\n      <th>0</th>\n      <th>1</th>\n      <th>2</th>\n      <th>3</th>\n      <th>4</th>\n      <th>5</th>\n      <th>6</th>\n      <th>7</th>\n      <th>8</th>\n      <th>9</th>\n      <th>...</th>\n      <th>150518</th>\n      <th>150519</th>\n      <th>150520</th>\n      <th>150521</th>\n      <th>150522</th>\n      <th>150523</th>\n      <th>150524</th>\n      <th>150525</th>\n      <th>150526</th>\n      <th>150527</th>\n    </tr>\n  </thead>\n  <tbody>\n    <tr>\n      <th>0</th>\n      <td>-0.450980</td>\n      <td>-0.490196</td>\n      <td>-0.443137</td>\n      <td>-0.450980</td>\n      <td>-0.490196</td>\n      <td>-0.443137</td>\n      <td>-0.450980</td>\n      <td>-0.490196</td>\n      <td>-0.443137</td>\n      <td>-0.396078</td>\n      <td>...</td>\n      <td>-0.654902</td>\n      <td>-0.341176</td>\n      <td>-0.545098</td>\n      <td>-0.647059</td>\n      <td>-0.341176</td>\n      <td>-0.545098</td>\n      <td>-0.647059</td>\n      <td>-0.341176</td>\n      <td>-0.545098</td>\n      <td>-0.647059</td>\n    </tr>\n    <tr>\n      <th>1</th>\n      <td>0.325490</td>\n      <td>0.301961</td>\n      <td>0.247059</td>\n      <td>0.325490</td>\n      <td>0.301961</td>\n      <td>0.247059</td>\n      <td>0.349020</td>\n      <td>0.325490</td>\n      <td>0.270588</td>\n      <td>0.349020</td>\n      <td>...</td>\n      <td>0.105882</td>\n      <td>0.098039</td>\n      <td>0.058824</td>\n      <td>0.105882</td>\n      <td>0.113726</td>\n      <td>0.074510</td>\n      <td>0.121569</td>\n      <td>0.113726</td>\n      <td>0.074510</td>\n      <td>0.121569</td>\n    </tr>\n    <tr>\n      <th>2</th>\n      <td>-0.411765</td>\n      <td>-0.403922</td>\n      <td>-0.388235</td>\n      <td>-0.411765</td>\n      <td>-0.403922</td>\n      <td>-0.388235</td>\n      <td>-0.521569</td>\n      <td>-0.513726</td>\n      <td>-0.498039</td>\n      <td>-0.521569</td>\n      <td>...</td>\n      <td>-0.662745</td>\n      <td>-0.725490</td>\n      <td>-0.725490</td>\n      <td>-0.662745</td>\n      <td>-0.749020</td>\n      <td>-0.749020</td>\n      <td>-0.686275</td>\n      <td>-0.749020</td>\n      <td>-0.749020</td>\n      <td>-0.686275</td>\n    </tr>\n    <tr>\n      <th>3</th>\n      <td>-0.929412</td>\n      <td>-0.945098</td>\n      <td>-0.921569</td>\n      <td>-0.929412</td>\n      <td>-0.945098</td>\n      <td>-0.921569</td>\n      <td>-0.921569</td>\n      <td>-0.937255</td>\n      <td>-0.913725</td>\n      <td>-0.945098</td>\n      <td>...</td>\n      <td>-0.913725</td>\n      <td>-0.976471</td>\n      <td>-0.976471</td>\n      <td>-0.913725</td>\n      <td>-0.976471</td>\n      <td>-0.976471</td>\n      <td>-0.898039</td>\n      <td>-0.976471</td>\n      <td>-0.976471</td>\n      <td>-0.898039</td>\n    </tr>\n    <tr>\n      <th>4</th>\n      <td>-0.654902</td>\n      <td>-0.615686</td>\n      <td>-0.584314</td>\n      <td>-0.654902</td>\n      <td>-0.615686</td>\n      <td>-0.584314</td>\n      <td>-0.662745</td>\n      <td>-0.623529</td>\n      <td>-0.592157</td>\n      <td>-0.662745</td>\n      <td>...</td>\n      <td>0.952941</td>\n      <td>0.913725</td>\n      <td>0.945098</td>\n      <td>0.937255</td>\n      <td>0.913725</td>\n      <td>0.945098</td>\n      <td>0.937255</td>\n      <td>0.913725</td>\n      <td>0.945098</td>\n      <td>0.937255</td>\n    </tr>\n  </tbody>\n</table>\n<p>5 rows × 150528 columns</p>\n</div>"
     },
     "metadata": {},
     "execution_count": 17
    }
   ],
   "source": [
    "dataframe.head()"
   ]
  },
  {
   "cell_type": "code",
   "execution_count": 20,
   "metadata": {},
   "outputs": [
    {
     "output_type": "execute_result",
     "data": {
      "text/plain": [
       "             0         1         2         3         4         5         6  \\\n",
       "0    -0.450980 -0.490196 -0.443137 -0.450980 -0.490196 -0.443137 -0.450980   \n",
       "1     0.325490  0.301961  0.247059  0.325490  0.301961  0.247059  0.349020   \n",
       "2    -0.411765 -0.403922 -0.388235 -0.411765 -0.403922 -0.388235 -0.521569   \n",
       "3    -0.929412 -0.945098 -0.921569 -0.929412 -0.945098 -0.921569 -0.921569   \n",
       "4    -0.654902 -0.615686 -0.584314 -0.654902 -0.615686 -0.584314 -0.662745   \n",
       "...        ...       ...       ...       ...       ...       ...       ...   \n",
       "3828  0.858824  0.882353  0.796078  1.000000  1.000000  0.945098  0.819608   \n",
       "3829 -1.000000 -1.000000 -1.000000 -1.000000 -1.000000 -1.000000 -1.000000   \n",
       "3830 -1.000000 -1.000000 -1.000000 -1.000000 -1.000000 -1.000000 -1.000000   \n",
       "3831  0.670588  0.678431  0.709804  0.835294  0.843137  0.874510  0.654902   \n",
       "3832  0.905882  0.898039  0.882353  0.890196  0.858824  0.850980  0.913725   \n",
       "\n",
       "             7         8         9  ...    150519    150520    150521  \\\n",
       "0    -0.490196 -0.443137 -0.396078  ... -0.341176 -0.545098 -0.647059   \n",
       "1     0.325490  0.270588  0.349020  ...  0.098039  0.058824  0.105882   \n",
       "2    -0.513726 -0.498039 -0.521569  ... -0.725490 -0.725490 -0.662745   \n",
       "3    -0.937255 -0.913725 -0.945098  ... -0.976471 -0.976471 -0.913725   \n",
       "4    -0.623529 -0.592157 -0.662745  ...  0.913725  0.945098  0.937255   \n",
       "...        ...       ...       ...  ...       ...       ...       ...   \n",
       "3828  0.827451  0.764706  0.960784  ...  0.105882  0.129412 -0.113725   \n",
       "3829 -1.000000 -1.000000 -1.000000  ... -1.000000 -1.000000 -1.000000   \n",
       "3830 -1.000000 -1.000000 -1.000000  ... -1.000000 -1.000000 -1.000000   \n",
       "3831  0.654902  0.670588  0.968627  ... -0.058824 -0.050980 -0.011765   \n",
       "3832  0.843137  0.850980  1.000000  ... -0.050980  0.074510  0.074510   \n",
       "\n",
       "        150522    150523    150524    150525    150526    150527  labels  \n",
       "0    -0.341176 -0.545098 -0.647059 -0.341176 -0.545098 -0.647059       0  \n",
       "1     0.113726  0.074510  0.121569  0.113726  0.074510  0.121569       0  \n",
       "2    -0.749020 -0.749020 -0.686275 -0.749020 -0.749020 -0.686275       0  \n",
       "3    -0.976471 -0.976471 -0.898039 -0.976471 -0.976471 -0.898039       0  \n",
       "4     0.913725  0.945098  0.937255  0.913725  0.945098  0.937255       0  \n",
       "...        ...       ...       ...       ...       ...       ...     ...  \n",
       "3828  0.239216  0.301961  0.011765  0.262745  0.364706  0.019608       1  \n",
       "3829 -1.000000 -1.000000 -1.000000 -1.000000 -1.000000 -1.000000       1  \n",
       "3830 -1.000000 -1.000000 -1.000000 -1.000000 -1.000000 -1.000000       1  \n",
       "3831  0.607843  0.600000  0.741176  0.866667  0.835294  0.968627       1  \n",
       "3832  0.623529  0.811765  0.811765  0.584314  0.819608  0.803922       1  \n",
       "\n",
       "[3833 rows x 150529 columns]"
      ],
      "text/html": "<div>\n<style scoped>\n    .dataframe tbody tr th:only-of-type {\n        vertical-align: middle;\n    }\n\n    .dataframe tbody tr th {\n        vertical-align: top;\n    }\n\n    .dataframe thead th {\n        text-align: right;\n    }\n</style>\n<table border=\"1\" class=\"dataframe\">\n  <thead>\n    <tr style=\"text-align: right;\">\n      <th></th>\n      <th>0</th>\n      <th>1</th>\n      <th>2</th>\n      <th>3</th>\n      <th>4</th>\n      <th>5</th>\n      <th>6</th>\n      <th>7</th>\n      <th>8</th>\n      <th>9</th>\n      <th>...</th>\n      <th>150519</th>\n      <th>150520</th>\n      <th>150521</th>\n      <th>150522</th>\n      <th>150523</th>\n      <th>150524</th>\n      <th>150525</th>\n      <th>150526</th>\n      <th>150527</th>\n      <th>labels</th>\n    </tr>\n  </thead>\n  <tbody>\n    <tr>\n      <th>0</th>\n      <td>-0.450980</td>\n      <td>-0.490196</td>\n      <td>-0.443137</td>\n      <td>-0.450980</td>\n      <td>-0.490196</td>\n      <td>-0.443137</td>\n      <td>-0.450980</td>\n      <td>-0.490196</td>\n      <td>-0.443137</td>\n      <td>-0.396078</td>\n      <td>...</td>\n      <td>-0.341176</td>\n      <td>-0.545098</td>\n      <td>-0.647059</td>\n      <td>-0.341176</td>\n      <td>-0.545098</td>\n      <td>-0.647059</td>\n      <td>-0.341176</td>\n      <td>-0.545098</td>\n      <td>-0.647059</td>\n      <td>0</td>\n    </tr>\n    <tr>\n      <th>1</th>\n      <td>0.325490</td>\n      <td>0.301961</td>\n      <td>0.247059</td>\n      <td>0.325490</td>\n      <td>0.301961</td>\n      <td>0.247059</td>\n      <td>0.349020</td>\n      <td>0.325490</td>\n      <td>0.270588</td>\n      <td>0.349020</td>\n      <td>...</td>\n      <td>0.098039</td>\n      <td>0.058824</td>\n      <td>0.105882</td>\n      <td>0.113726</td>\n      <td>0.074510</td>\n      <td>0.121569</td>\n      <td>0.113726</td>\n      <td>0.074510</td>\n      <td>0.121569</td>\n      <td>0</td>\n    </tr>\n    <tr>\n      <th>2</th>\n      <td>-0.411765</td>\n      <td>-0.403922</td>\n      <td>-0.388235</td>\n      <td>-0.411765</td>\n      <td>-0.403922</td>\n      <td>-0.388235</td>\n      <td>-0.521569</td>\n      <td>-0.513726</td>\n      <td>-0.498039</td>\n      <td>-0.521569</td>\n      <td>...</td>\n      <td>-0.725490</td>\n      <td>-0.725490</td>\n      <td>-0.662745</td>\n      <td>-0.749020</td>\n      <td>-0.749020</td>\n      <td>-0.686275</td>\n      <td>-0.749020</td>\n      <td>-0.749020</td>\n      <td>-0.686275</td>\n      <td>0</td>\n    </tr>\n    <tr>\n      <th>3</th>\n      <td>-0.929412</td>\n      <td>-0.945098</td>\n      <td>-0.921569</td>\n      <td>-0.929412</td>\n      <td>-0.945098</td>\n      <td>-0.921569</td>\n      <td>-0.921569</td>\n      <td>-0.937255</td>\n      <td>-0.913725</td>\n      <td>-0.945098</td>\n      <td>...</td>\n      <td>-0.976471</td>\n      <td>-0.976471</td>\n      <td>-0.913725</td>\n      <td>-0.976471</td>\n      <td>-0.976471</td>\n      <td>-0.898039</td>\n      <td>-0.976471</td>\n      <td>-0.976471</td>\n      <td>-0.898039</td>\n      <td>0</td>\n    </tr>\n    <tr>\n      <th>4</th>\n      <td>-0.654902</td>\n      <td>-0.615686</td>\n      <td>-0.584314</td>\n      <td>-0.654902</td>\n      <td>-0.615686</td>\n      <td>-0.584314</td>\n      <td>-0.662745</td>\n      <td>-0.623529</td>\n      <td>-0.592157</td>\n      <td>-0.662745</td>\n      <td>...</td>\n      <td>0.913725</td>\n      <td>0.945098</td>\n      <td>0.937255</td>\n      <td>0.913725</td>\n      <td>0.945098</td>\n      <td>0.937255</td>\n      <td>0.913725</td>\n      <td>0.945098</td>\n      <td>0.937255</td>\n      <td>0</td>\n    </tr>\n    <tr>\n      <th>...</th>\n      <td>...</td>\n      <td>...</td>\n      <td>...</td>\n      <td>...</td>\n      <td>...</td>\n      <td>...</td>\n      <td>...</td>\n      <td>...</td>\n      <td>...</td>\n      <td>...</td>\n      <td>...</td>\n      <td>...</td>\n      <td>...</td>\n      <td>...</td>\n      <td>...</td>\n      <td>...</td>\n      <td>...</td>\n      <td>...</td>\n      <td>...</td>\n      <td>...</td>\n      <td>...</td>\n    </tr>\n    <tr>\n      <th>3828</th>\n      <td>0.858824</td>\n      <td>0.882353</td>\n      <td>0.796078</td>\n      <td>1.000000</td>\n      <td>1.000000</td>\n      <td>0.945098</td>\n      <td>0.819608</td>\n      <td>0.827451</td>\n      <td>0.764706</td>\n      <td>0.960784</td>\n      <td>...</td>\n      <td>0.105882</td>\n      <td>0.129412</td>\n      <td>-0.113725</td>\n      <td>0.239216</td>\n      <td>0.301961</td>\n      <td>0.011765</td>\n      <td>0.262745</td>\n      <td>0.364706</td>\n      <td>0.019608</td>\n      <td>1</td>\n    </tr>\n    <tr>\n      <th>3829</th>\n      <td>-1.000000</td>\n      <td>-1.000000</td>\n      <td>-1.000000</td>\n      <td>-1.000000</td>\n      <td>-1.000000</td>\n      <td>-1.000000</td>\n      <td>-1.000000</td>\n      <td>-1.000000</td>\n      <td>-1.000000</td>\n      <td>-1.000000</td>\n      <td>...</td>\n      <td>-1.000000</td>\n      <td>-1.000000</td>\n      <td>-1.000000</td>\n      <td>-1.000000</td>\n      <td>-1.000000</td>\n      <td>-1.000000</td>\n      <td>-1.000000</td>\n      <td>-1.000000</td>\n      <td>-1.000000</td>\n      <td>1</td>\n    </tr>\n    <tr>\n      <th>3830</th>\n      <td>-1.000000</td>\n      <td>-1.000000</td>\n      <td>-1.000000</td>\n      <td>-1.000000</td>\n      <td>-1.000000</td>\n      <td>-1.000000</td>\n      <td>-1.000000</td>\n      <td>-1.000000</td>\n      <td>-1.000000</td>\n      <td>-1.000000</td>\n      <td>...</td>\n      <td>-1.000000</td>\n      <td>-1.000000</td>\n      <td>-1.000000</td>\n      <td>-1.000000</td>\n      <td>-1.000000</td>\n      <td>-1.000000</td>\n      <td>-1.000000</td>\n      <td>-1.000000</td>\n      <td>-1.000000</td>\n      <td>1</td>\n    </tr>\n    <tr>\n      <th>3831</th>\n      <td>0.670588</td>\n      <td>0.678431</td>\n      <td>0.709804</td>\n      <td>0.835294</td>\n      <td>0.843137</td>\n      <td>0.874510</td>\n      <td>0.654902</td>\n      <td>0.654902</td>\n      <td>0.670588</td>\n      <td>0.968627</td>\n      <td>...</td>\n      <td>-0.058824</td>\n      <td>-0.050980</td>\n      <td>-0.011765</td>\n      <td>0.607843</td>\n      <td>0.600000</td>\n      <td>0.741176</td>\n      <td>0.866667</td>\n      <td>0.835294</td>\n      <td>0.968627</td>\n      <td>1</td>\n    </tr>\n    <tr>\n      <th>3832</th>\n      <td>0.905882</td>\n      <td>0.898039</td>\n      <td>0.882353</td>\n      <td>0.890196</td>\n      <td>0.858824</td>\n      <td>0.850980</td>\n      <td>0.913725</td>\n      <td>0.843137</td>\n      <td>0.850980</td>\n      <td>1.000000</td>\n      <td>...</td>\n      <td>-0.050980</td>\n      <td>0.074510</td>\n      <td>0.074510</td>\n      <td>0.623529</td>\n      <td>0.811765</td>\n      <td>0.811765</td>\n      <td>0.584314</td>\n      <td>0.819608</td>\n      <td>0.803922</td>\n      <td>1</td>\n    </tr>\n  </tbody>\n</table>\n<p>3833 rows × 150529 columns</p>\n</div>"
     },
     "metadata": {},
     "execution_count": 20
    }
   ],
   "source": [
    "dataframe['labels'] = labels\n",
    "dataframe"
   ]
  },
  {
   "cell_type": "code",
   "execution_count": 21,
   "metadata": {},
   "outputs": [],
   "source": [
    "x = dataframe.drop(['labels'],axis=1)\n",
    "y = dataframe[['labels']]"
   ]
  },
  {
   "source": [
    "Train test split"
   ],
   "cell_type": "markdown",
   "metadata": {}
  },
  {
   "cell_type": "code",
   "execution_count": 22,
   "metadata": {},
   "outputs": [],
   "source": [
    "X_train,X_test,Y_train,Y_test = train_test_split(x,y,test_size=0.5,random_state=1)"
   ]
  },
  {
   "cell_type": "code",
   "execution_count": 23,
   "metadata": {},
   "outputs": [
    {
     "output_type": "execute_result",
     "data": {
      "text/plain": [
       "((1916, 150528), (1916, 1), (1917, 150528))"
      ]
     },
     "metadata": {},
     "execution_count": 23
    }
   ],
   "source": [
    "X_train.shape,Y_train.shape,X_test.shape"
   ]
  },
  {
   "source": [
    "Model fitting\n",
    "\n",
    "Models used - \n",
    "                MLPClassifier\n",
    "                RandomForestClassifier\n",
    "                GaussianNB\n",
    "\n",
    "Then calculated their accuracy and classification reports."
   ],
   "cell_type": "markdown",
   "metadata": {}
  },
  {
   "source": [
    "Multi layer perceptron - best classfier but high fitting time"
   ],
   "cell_type": "markdown",
   "metadata": {}
  },
  {
   "cell_type": "code",
   "execution_count": 24,
   "metadata": {},
   "outputs": [],
   "source": [
    "mlp = MLPClassifier()"
   ]
  },
  {
   "cell_type": "code",
   "execution_count": 26,
   "metadata": {},
   "outputs": [
    {
     "output_type": "stream",
     "name": "stdout",
     "text": [
      "Wall time: 5min 26s\n"
     ]
    },
    {
     "output_type": "execute_result",
     "data": {
      "text/plain": [
       "MLPClassifier()"
      ]
     },
     "metadata": {},
     "execution_count": 26
    }
   ],
   "source": [
    "%%time\n",
    "\n",
    "mlp.fit(X_train,np.ravel(Y_train))"
   ]
  },
  {
   "cell_type": "code",
   "execution_count": 27,
   "metadata": {},
   "outputs": [],
   "source": [
    "pred = mlp.predict(X_test)"
   ]
  },
  {
   "cell_type": "code",
   "execution_count": 28,
   "metadata": {},
   "outputs": [],
   "source": [
    "from sklearn.metrics import accuracy_score"
   ]
  },
  {
   "cell_type": "code",
   "execution_count": 29,
   "metadata": {},
   "outputs": [
    {
     "output_type": "stream",
     "name": "stdout",
     "text": [
      "0.9269692227438706\n"
     ]
    }
   ],
   "source": [
    "print(accuracy_score(Y_test,pred))"
   ]
  },
  {
   "cell_type": "code",
   "execution_count": 30,
   "metadata": {},
   "outputs": [
    {
     "output_type": "stream",
     "name": "stdout",
     "text": [
      "              precision    recall  f1-score   support\n\n           0       0.94      0.91      0.93       973\n           1       0.91      0.94      0.93       944\n\n    accuracy                           0.93      1917\n   macro avg       0.93      0.93      0.93      1917\nweighted avg       0.93      0.93      0.93      1917\n\n"
     ]
    }
   ],
   "source": [
    "print(classification_report(Y_test,pred))"
   ]
  },
  {
   "source": [
    "Random forest - second best classifier"
   ],
   "cell_type": "markdown",
   "metadata": {}
  },
  {
   "cell_type": "code",
   "execution_count": 31,
   "metadata": {},
   "outputs": [
    {
     "output_type": "stream",
     "name": "stdout",
     "text": [
      "Wall time: 7.53 s\n"
     ]
    },
    {
     "output_type": "execute_result",
     "data": {
      "text/plain": [
       "RandomForestClassifier(n_jobs=-1)"
      ]
     },
     "metadata": {},
     "execution_count": 31
    }
   ],
   "source": [
    "%%time\n",
    "rf = RandomForestClassifier(n_estimators=100,n_jobs=-1)\n",
    "rf.fit(X_train,np.ravel(Y_train))"
   ]
  },
  {
   "cell_type": "code",
   "execution_count": 32,
   "metadata": {},
   "outputs": [],
   "source": [
    "rf_predict = rf.predict(X_test)"
   ]
  },
  {
   "cell_type": "code",
   "execution_count": 33,
   "metadata": {},
   "outputs": [
    {
     "output_type": "stream",
     "name": "stdout",
     "text": [
      "0.9290558163797601\n"
     ]
    }
   ],
   "source": [
    "print(accuracy_score(Y_test,rf_predict))"
   ]
  },
  {
   "cell_type": "code",
   "execution_count": 34,
   "metadata": {},
   "outputs": [
    {
     "output_type": "stream",
     "name": "stdout",
     "text": [
      "              precision    recall  f1-score   support\n\n           0       0.92      0.94      0.93       973\n           1       0.94      0.92      0.93       944\n\n    accuracy                           0.93      1917\n   macro avg       0.93      0.93      0.93      1917\nweighted avg       0.93      0.93      0.93      1917\n\n"
     ]
    }
   ],
   "source": [
    "print(classification_report(Y_test,rf_predict))"
   ]
  },
  {
   "source": [
    "Gaussian Naibe Bayes - worst out of three"
   ],
   "cell_type": "markdown",
   "metadata": {}
  },
  {
   "cell_type": "code",
   "execution_count": 35,
   "metadata": {},
   "outputs": [],
   "source": [
    "gauss = GaussianNB()"
   ]
  },
  {
   "cell_type": "code",
   "execution_count": 37,
   "metadata": {},
   "outputs": [
    {
     "output_type": "stream",
     "name": "stdout",
     "text": [
      "Wall time: 4.86 s\n"
     ]
    },
    {
     "output_type": "execute_result",
     "data": {
      "text/plain": [
       "GaussianNB()"
      ]
     },
     "metadata": {},
     "execution_count": 37
    }
   ],
   "source": [
    "%%time\n",
    "gauss.fit(X_train,np.ravel(Y_train))"
   ]
  },
  {
   "cell_type": "code",
   "execution_count": 38,
   "metadata": {},
   "outputs": [],
   "source": [
    "accuracy_gauss = cross_val_score(gauss,X_train,np.ravel(Y_train),scoring='accuracy',cv=10)"
   ]
  },
  {
   "cell_type": "code",
   "execution_count": 39,
   "metadata": {},
   "outputs": [
    {
     "output_type": "stream",
     "name": "stdout",
     "text": [
      "0.810544829842932\n"
     ]
    }
   ],
   "source": [
    "print(accuracy_gauss.mean())"
   ]
  },
  {
   "cell_type": "code",
   "execution_count": 40,
   "metadata": {},
   "outputs": [
    {
     "output_type": "stream",
     "name": "stdout",
     "text": [
      "[0.765625   0.859375   0.78645833 0.81770833 0.828125   0.80208333\n 0.85340314 0.76963351 0.79581152 0.82722513]\n"
     ]
    }
   ],
   "source": [
    "print(accuracy_gauss)"
   ]
  },
  {
   "cell_type": "code",
   "execution_count": 41,
   "metadata": {},
   "outputs": [],
   "source": [
    "pred_gauss = gauss.predict(X_test)"
   ]
  },
  {
   "cell_type": "code",
   "execution_count": 42,
   "metadata": {},
   "outputs": [
    {
     "output_type": "stream",
     "name": "stdout",
     "text": [
      "0.810641627543036\n"
     ]
    }
   ],
   "source": [
    "print(accuracy_score(Y_test,pred_gauss))"
   ]
  },
  {
   "cell_type": "code",
   "execution_count": 43,
   "metadata": {},
   "outputs": [
    {
     "output_type": "stream",
     "name": "stdout",
     "text": [
      "              precision    recall  f1-score   support\n\n           0       0.81      0.82      0.82       973\n           1       0.81      0.80      0.81       944\n\n    accuracy                           0.81      1917\n   macro avg       0.81      0.81      0.81      1917\nweighted avg       0.81      0.81      0.81      1917\n\n"
     ]
    }
   ],
   "source": [
    "print(classification_report(Y_test,pred_gauss))"
   ]
  },
  {
   "source": [
    "#DONE"
   ],
   "cell_type": "markdown",
   "metadata": {}
  }
 ]
}